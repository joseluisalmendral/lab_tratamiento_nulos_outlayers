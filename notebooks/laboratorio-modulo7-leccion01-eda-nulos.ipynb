{
 "cells": [
  {
   "cell_type": "markdown",
   "metadata": {},
   "source": [
    "<div style=\"text-align: center;\">\n",
    "  <img src=\"https://github.com/Hack-io-Data/Imagenes/blob/main/01-LogosHackio/logo_naranja@4x.png?raw=true\" alt=\"esquema\" />\n",
    "</div>"
   ]
  },
  {
   "cell_type": "markdown",
   "metadata": {},
   "source": [
    "\n",
    "# Laboratorio EDA y Gestión de Nulos\n",
    "\n",
    "AutoRenew, una empresa líder en la venta de coches de segunda mano, te ha contratado para desarrollar un modelo predictivo que estime el precio de los vehículos usados. Este modelo ayudará a la empresa a mejorar sus estrategias de ventas, marketing y optimización del inventario. Para ello, cuentas con un conjunto de datos que contiene información detallada sobre diversas características de los coches usados. Sin embargo, como es común en conjuntos de datos reales, encontrarás valores nulos y necesitarás realizar un análisis exploratorio para identificar patrones, correlaciones y posibles anomalías.\n",
    "\n",
    " En este laboratorio, tu tarea es realizar un análisis exploratorio de los datos (EDA) y gestionar los valores nulos que encuentres. Este es solo el primer paso de un proyecto que se desarrollará durante toda la semana, en el que usarás este mismo conjunto de datos para practicar diferentes fases del preprocesamiento.\n",
    "\n",
    "**Columnas del conjunto de datos:**\n",
    "\n",
    "- **dateCrawled**: Fecha y hora en que se recolectaron los datos del coche.\n",
    "\n",
    "- **name**: Nombre del anuncio, generalmente incluye la marca y el modelo del coche.\n",
    "\n",
    "- **seller**: Tipo de vendedor (particular o concesionario).\n",
    "\n",
    "- **offerType**: Tipo de oferta (venta o subasta).\n",
    "\n",
    "- **price**: Precio del coche en la moneda local.\n",
    "\n",
    "- **abtest**: Campo utilizado para pruebas A/B, indicando diferentes versiones del sitio web o anuncio.\n",
    "\n",
    "- **vehicleType**: Tipo de vehículo (sedán, SUV, hatchback, etc.).\n",
    "\n",
    "- **yearOfRegistration**: Año de registro del coche.\n",
    "\n",
    "- **gearbox**: Tipo de caja de cambios (manual o automática).\n",
    "\n",
    "- **powerCV**: Potencia del coche en caballos de vapor (CV).\n",
    "\n",
    "- **model**: Modelo específico del coche.\n",
    "\n",
    "- **kilometer**: Kilometraje total del coche.\n",
    "\n",
    "- **monthOfRegistration**: Mes de registro del coche.\n",
    "\n",
    "- **fuelType**: Tipo de combustible (gasolina, diésel, eléctrico, etc.).\n",
    "\n",
    "- **brand**: Marca del coche.\n",
    "\n",
    "- **notRepairedDamage**: Indica si el coche tiene daños no reparados.\n",
    "\n",
    "- **dateCreated**: Fecha de creación del anuncio.\n",
    "\n",
    "- **nrOfPictures**: Número de fotos en el anuncio.\n",
    "\n",
    "- **postalCode**: Código postal de la ubicación del coche.\n",
    "\n",
    "- **lastSeen**: Última fecha y hora en que el anuncio fue visto.\n",
    "\n",
    "**Instrucciones:**\n",
    "\n",
    "1. **Análisis Exploratorio de Datos (EDA):** Explora el conjunto de datos para familiarizarte con las diferentes características de los coches. Utiliza gráficos y estadísticas descriptivas para identificar patrones, tendencias y posibles anomalías.\n",
    "   \n",
    "2. **Gestión de Valores Nulos:** Identifica las columnas que contienen valores nulos y aplica las técnicas adecuadas para manejarlos. Esto podría incluir la imputación de valores, eliminación de filas o columnas, o cualquier otra estrategia que consideres apropiada.\n",
    "\n",
    "**Nota:** Este laboratorio es el primer paso de una serie de actividades que realizarás esta semana utilizando el mismo conjunto de datos. Asegúrate de documentar bien tu trabajo, ya que lo utilizarás como base para los siguientes ejercicios.\n"
   ]
  },
  {
   "cell_type": "code",
   "execution_count": 1,
   "metadata": {},
   "outputs": [],
   "source": [
    "# importamos las librerías que necesitamos\n",
    "\n",
    "# Tratamiento de datos\n",
    "# -----------------------------------------------------------------------\n",
    "import pandas as pd\n",
    "import numpy as np\n",
    "\n",
    "# Importación de las clases creadas en nuestro archivo de soporte\n",
    "# -----------------------------------------------------------------------\n",
    "import sys\n",
    "sys.path.append('../')\n",
    "from src import soporte_nulos as sup_nul\n",
    "from src import soporte_preprocesamiento as sup_prep\n",
    "\n",
    "# Librerías de visualización\n",
    "# -----------------------------------------------------------------------\n",
    "import seaborn as sns\n",
    "import matplotlib.pyplot as plt\n",
    "# Configuración\n",
    "# -----------------------------------------------------------------------\n",
    "pd.set_option('display.max_columns', None) # para poder visualizar todas las columnas de los DataFrames"
   ]
  },
  {
   "cell_type": "markdown",
   "metadata": {},
   "source": [
    "### Importamos los datos"
   ]
  },
  {
   "cell_type": "code",
   "execution_count": 2,
   "metadata": {},
   "outputs": [
    {
     "data": {
      "text/html": [
       "<div>\n",
       "<style scoped>\n",
       "    .dataframe tbody tr th:only-of-type {\n",
       "        vertical-align: middle;\n",
       "    }\n",
       "\n",
       "    .dataframe tbody tr th {\n",
       "        vertical-align: top;\n",
       "    }\n",
       "\n",
       "    .dataframe thead th {\n",
       "        text-align: right;\n",
       "    }\n",
       "</style>\n",
       "<table border=\"1\" class=\"dataframe\">\n",
       "  <thead>\n",
       "    <tr style=\"text-align: right;\">\n",
       "      <th></th>\n",
       "      <th>dateCrawled</th>\n",
       "      <th>name</th>\n",
       "      <th>seller</th>\n",
       "      <th>offerType</th>\n",
       "      <th>price</th>\n",
       "      <th>abtest</th>\n",
       "      <th>vehicleType</th>\n",
       "      <th>yearOfRegistration</th>\n",
       "      <th>gearbox</th>\n",
       "      <th>powerCV</th>\n",
       "      <th>model</th>\n",
       "      <th>kilometer</th>\n",
       "      <th>monthOfRegistration</th>\n",
       "      <th>fuelType</th>\n",
       "      <th>brand</th>\n",
       "      <th>notRepairedDamage</th>\n",
       "      <th>dateCreated</th>\n",
       "      <th>nrOfPictures</th>\n",
       "      <th>postalCode</th>\n",
       "      <th>lastSeen</th>\n",
       "    </tr>\n",
       "  </thead>\n",
       "  <tbody>\n",
       "    <tr>\n",
       "      <th>142352</th>\n",
       "      <td>2016-04-01 14:56:29</td>\n",
       "      <td>Renault_Megane</td>\n",
       "      <td>private</td>\n",
       "      <td>offer</td>\n",
       "      <td>1500</td>\n",
       "      <td>test</td>\n",
       "      <td>convertible</td>\n",
       "      <td>1998</td>\n",
       "      <td>manually</td>\n",
       "      <td>89.0</td>\n",
       "      <td>megane</td>\n",
       "      <td>150000</td>\n",
       "      <td>12</td>\n",
       "      <td>petrol</td>\n",
       "      <td>renault</td>\n",
       "      <td>NaN</td>\n",
       "      <td>2016-04-01 00:00:00</td>\n",
       "      <td>0</td>\n",
       "      <td>63825</td>\n",
       "      <td>2016-04-07 12:16:11</td>\n",
       "    </tr>\n",
       "  </tbody>\n",
       "</table>\n",
       "</div>"
      ],
      "text/plain": [
       "                dateCrawled            name   seller offerType  price abtest  \\\n",
       "142352  2016-04-01 14:56:29  Renault_Megane  private     offer   1500   test   \n",
       "\n",
       "        vehicleType  yearOfRegistration   gearbox  powerCV   model  kilometer  \\\n",
       "142352  convertible                1998  manually     89.0  megane     150000   \n",
       "\n",
       "        monthOfRegistration fuelType    brand notRepairedDamage  \\\n",
       "142352                   12   petrol  renault               NaN   \n",
       "\n",
       "                dateCreated  nrOfPictures  postalCode             lastSeen  \n",
       "142352  2016-04-01 00:00:00             0       63825  2016-04-07 12:16:11  "
      ]
     },
     "execution_count": 2,
     "metadata": {},
     "output_type": "execute_result"
    }
   ],
   "source": [
    "df = pd.read_csv('../datos/autorenew.csv')\n",
    "df.sample()"
   ]
  },
  {
   "cell_type": "markdown",
   "metadata": {},
   "source": [
    "### vemos los duplicados que tenemos"
   ]
  },
  {
   "cell_type": "code",
   "execution_count": 3,
   "metadata": {},
   "outputs": [
    {
     "data": {
      "text/plain": [
       "4"
      ]
     },
     "execution_count": 3,
     "metadata": {},
     "output_type": "execute_result"
    }
   ],
   "source": [
    "df.duplicated().sum()"
   ]
  },
  {
   "cell_type": "markdown",
   "metadata": {},
   "source": [
    "### comprobamos cuales son los valores qeu tenemos duplicados"
   ]
  },
  {
   "cell_type": "code",
   "execution_count": 4,
   "metadata": {},
   "outputs": [
    {
     "data": {
      "text/html": [
       "<div>\n",
       "<style scoped>\n",
       "    .dataframe tbody tr th:only-of-type {\n",
       "        vertical-align: middle;\n",
       "    }\n",
       "\n",
       "    .dataframe tbody tr th {\n",
       "        vertical-align: top;\n",
       "    }\n",
       "\n",
       "    .dataframe thead th {\n",
       "        text-align: right;\n",
       "    }\n",
       "</style>\n",
       "<table border=\"1\" class=\"dataframe\">\n",
       "  <thead>\n",
       "    <tr style=\"text-align: right;\">\n",
       "      <th></th>\n",
       "      <th>dateCrawled</th>\n",
       "      <th>name</th>\n",
       "      <th>seller</th>\n",
       "      <th>offerType</th>\n",
       "      <th>price</th>\n",
       "      <th>abtest</th>\n",
       "      <th>vehicleType</th>\n",
       "      <th>yearOfRegistration</th>\n",
       "      <th>gearbox</th>\n",
       "      <th>powerCV</th>\n",
       "      <th>model</th>\n",
       "      <th>kilometer</th>\n",
       "      <th>monthOfRegistration</th>\n",
       "      <th>fuelType</th>\n",
       "      <th>brand</th>\n",
       "      <th>notRepairedDamage</th>\n",
       "      <th>dateCreated</th>\n",
       "      <th>nrOfPictures</th>\n",
       "      <th>postalCode</th>\n",
       "      <th>lastSeen</th>\n",
       "    </tr>\n",
       "  </thead>\n",
       "  <tbody>\n",
       "    <tr>\n",
       "      <th>43501</th>\n",
       "      <td>2016-03-18 18:46:15</td>\n",
       "      <td>Volkswagen_Passat_Variant_1.9_TDI_Highline</td>\n",
       "      <td>private</td>\n",
       "      <td>offer</td>\n",
       "      <td>1999</td>\n",
       "      <td>control</td>\n",
       "      <td>combi</td>\n",
       "      <td>2001</td>\n",
       "      <td>manually</td>\n",
       "      <td>129.0</td>\n",
       "      <td>passat</td>\n",
       "      <td>150000</td>\n",
       "      <td>7</td>\n",
       "      <td>diesel</td>\n",
       "      <td>volkswagen</td>\n",
       "      <td>no</td>\n",
       "      <td>2016-03-18 00:00:00</td>\n",
       "      <td>0</td>\n",
       "      <td>36391</td>\n",
       "      <td>2016-03-18 18:46:15</td>\n",
       "    </tr>\n",
       "    <tr>\n",
       "      <th>92386</th>\n",
       "      <td>2016-03-08 18:42:48</td>\n",
       "      <td>Mercedes_Benz_CLK_Coupe_230_Kompressor_Sport</td>\n",
       "      <td>private</td>\n",
       "      <td>offer</td>\n",
       "      <td>1799</td>\n",
       "      <td>test</td>\n",
       "      <td>coupe</td>\n",
       "      <td>1999</td>\n",
       "      <td>automatic</td>\n",
       "      <td>190.0</td>\n",
       "      <td>clk</td>\n",
       "      <td>20000</td>\n",
       "      <td>7</td>\n",
       "      <td>petrol</td>\n",
       "      <td>mercedes_benz</td>\n",
       "      <td>no</td>\n",
       "      <td>2016-03-08 00:00:00</td>\n",
       "      <td>0</td>\n",
       "      <td>89518</td>\n",
       "      <td>2016-03-09 09:46:57</td>\n",
       "    </tr>\n",
       "    <tr>\n",
       "      <th>95425</th>\n",
       "      <td>2016-03-28 00:56:10</td>\n",
       "      <td>Suzuki_Ignis</td>\n",
       "      <td>private</td>\n",
       "      <td>offer</td>\n",
       "      <td>1000</td>\n",
       "      <td>control</td>\n",
       "      <td>small car</td>\n",
       "      <td>2002</td>\n",
       "      <td>manually</td>\n",
       "      <td>82.0</td>\n",
       "      <td>andere</td>\n",
       "      <td>150000</td>\n",
       "      <td>1</td>\n",
       "      <td>petrol</td>\n",
       "      <td>suzuki</td>\n",
       "      <td>no</td>\n",
       "      <td>2016-03-28 00:00:00</td>\n",
       "      <td>0</td>\n",
       "      <td>66589</td>\n",
       "      <td>2016-03-28 08:46:21</td>\n",
       "    </tr>\n",
       "    <tr>\n",
       "      <th>179448</th>\n",
       "      <td>2016-03-08 18:42:48</td>\n",
       "      <td>Mercedes_Benz_CLK_Coupe_230_Kompressor_Sport</td>\n",
       "      <td>private</td>\n",
       "      <td>offer</td>\n",
       "      <td>1799</td>\n",
       "      <td>test</td>\n",
       "      <td>coupe</td>\n",
       "      <td>1999</td>\n",
       "      <td>automatic</td>\n",
       "      <td>190.0</td>\n",
       "      <td>clk</td>\n",
       "      <td>20000</td>\n",
       "      <td>7</td>\n",
       "      <td>petrol</td>\n",
       "      <td>mercedes_benz</td>\n",
       "      <td>no</td>\n",
       "      <td>2016-03-08 00:00:00</td>\n",
       "      <td>0</td>\n",
       "      <td>89518</td>\n",
       "      <td>2016-03-09 09:46:57</td>\n",
       "    </tr>\n",
       "    <tr>\n",
       "      <th>196894</th>\n",
       "      <td>2016-04-03 09:01:15</td>\n",
       "      <td>Mercedes_Benz_CLK_320_W209</td>\n",
       "      <td>private</td>\n",
       "      <td>offer</td>\n",
       "      <td>4699</td>\n",
       "      <td>test</td>\n",
       "      <td>coupe</td>\n",
       "      <td>2003</td>\n",
       "      <td>automatic</td>\n",
       "      <td>215.0</td>\n",
       "      <td>clk</td>\n",
       "      <td>125000</td>\n",
       "      <td>6</td>\n",
       "      <td>petrol</td>\n",
       "      <td>mercedes_benz</td>\n",
       "      <td>yes</td>\n",
       "      <td>2016-04-03 00:00:00</td>\n",
       "      <td>0</td>\n",
       "      <td>75196</td>\n",
       "      <td>2016-04-07 09:44:54</td>\n",
       "    </tr>\n",
       "    <tr>\n",
       "      <th>242556</th>\n",
       "      <td>2016-03-28 00:56:10</td>\n",
       "      <td>Suzuki_Ignis</td>\n",
       "      <td>private</td>\n",
       "      <td>offer</td>\n",
       "      <td>1000</td>\n",
       "      <td>control</td>\n",
       "      <td>small car</td>\n",
       "      <td>2002</td>\n",
       "      <td>manually</td>\n",
       "      <td>82.0</td>\n",
       "      <td>andere</td>\n",
       "      <td>150000</td>\n",
       "      <td>1</td>\n",
       "      <td>petrol</td>\n",
       "      <td>suzuki</td>\n",
       "      <td>no</td>\n",
       "      <td>2016-03-28 00:00:00</td>\n",
       "      <td>0</td>\n",
       "      <td>66589</td>\n",
       "      <td>2016-03-28 08:46:21</td>\n",
       "    </tr>\n",
       "    <tr>\n",
       "      <th>270719</th>\n",
       "      <td>2016-04-03 09:01:15</td>\n",
       "      <td>Mercedes_Benz_CLK_320_W209</td>\n",
       "      <td>private</td>\n",
       "      <td>offer</td>\n",
       "      <td>4699</td>\n",
       "      <td>test</td>\n",
       "      <td>coupe</td>\n",
       "      <td>2003</td>\n",
       "      <td>automatic</td>\n",
       "      <td>215.0</td>\n",
       "      <td>clk</td>\n",
       "      <td>125000</td>\n",
       "      <td>6</td>\n",
       "      <td>petrol</td>\n",
       "      <td>mercedes_benz</td>\n",
       "      <td>yes</td>\n",
       "      <td>2016-04-03 00:00:00</td>\n",
       "      <td>0</td>\n",
       "      <td>75196</td>\n",
       "      <td>2016-04-07 09:44:54</td>\n",
       "    </tr>\n",
       "    <tr>\n",
       "      <th>341474</th>\n",
       "      <td>2016-03-18 18:46:15</td>\n",
       "      <td>Volkswagen_Passat_Variant_1.9_TDI_Highline</td>\n",
       "      <td>private</td>\n",
       "      <td>offer</td>\n",
       "      <td>1999</td>\n",
       "      <td>control</td>\n",
       "      <td>combi</td>\n",
       "      <td>2001</td>\n",
       "      <td>manually</td>\n",
       "      <td>129.0</td>\n",
       "      <td>passat</td>\n",
       "      <td>150000</td>\n",
       "      <td>7</td>\n",
       "      <td>diesel</td>\n",
       "      <td>volkswagen</td>\n",
       "      <td>no</td>\n",
       "      <td>2016-03-18 00:00:00</td>\n",
       "      <td>0</td>\n",
       "      <td>36391</td>\n",
       "      <td>2016-03-18 18:46:15</td>\n",
       "    </tr>\n",
       "  </tbody>\n",
       "</table>\n",
       "</div>"
      ],
      "text/plain": [
       "                dateCrawled                                          name  \\\n",
       "43501   2016-03-18 18:46:15    Volkswagen_Passat_Variant_1.9_TDI_Highline   \n",
       "92386   2016-03-08 18:42:48  Mercedes_Benz_CLK_Coupe_230_Kompressor_Sport   \n",
       "95425   2016-03-28 00:56:10                                  Suzuki_Ignis   \n",
       "179448  2016-03-08 18:42:48  Mercedes_Benz_CLK_Coupe_230_Kompressor_Sport   \n",
       "196894  2016-04-03 09:01:15                    Mercedes_Benz_CLK_320_W209   \n",
       "242556  2016-03-28 00:56:10                                  Suzuki_Ignis   \n",
       "270719  2016-04-03 09:01:15                    Mercedes_Benz_CLK_320_W209   \n",
       "341474  2016-03-18 18:46:15    Volkswagen_Passat_Variant_1.9_TDI_Highline   \n",
       "\n",
       "         seller offerType  price   abtest vehicleType  yearOfRegistration  \\\n",
       "43501   private     offer   1999  control       combi                2001   \n",
       "92386   private     offer   1799     test       coupe                1999   \n",
       "95425   private     offer   1000  control   small car                2002   \n",
       "179448  private     offer   1799     test       coupe                1999   \n",
       "196894  private     offer   4699     test       coupe                2003   \n",
       "242556  private     offer   1000  control   small car                2002   \n",
       "270719  private     offer   4699     test       coupe                2003   \n",
       "341474  private     offer   1999  control       combi                2001   \n",
       "\n",
       "          gearbox  powerCV   model  kilometer  monthOfRegistration fuelType  \\\n",
       "43501    manually    129.0  passat     150000                    7   diesel   \n",
       "92386   automatic    190.0     clk      20000                    7   petrol   \n",
       "95425    manually     82.0  andere     150000                    1   petrol   \n",
       "179448  automatic    190.0     clk      20000                    7   petrol   \n",
       "196894  automatic    215.0     clk     125000                    6   petrol   \n",
       "242556   manually     82.0  andere     150000                    1   petrol   \n",
       "270719  automatic    215.0     clk     125000                    6   petrol   \n",
       "341474   manually    129.0  passat     150000                    7   diesel   \n",
       "\n",
       "                brand notRepairedDamage          dateCreated  nrOfPictures  \\\n",
       "43501      volkswagen                no  2016-03-18 00:00:00             0   \n",
       "92386   mercedes_benz                no  2016-03-08 00:00:00             0   \n",
       "95425          suzuki                no  2016-03-28 00:00:00             0   \n",
       "179448  mercedes_benz                no  2016-03-08 00:00:00             0   \n",
       "196894  mercedes_benz               yes  2016-04-03 00:00:00             0   \n",
       "242556         suzuki                no  2016-03-28 00:00:00             0   \n",
       "270719  mercedes_benz               yes  2016-04-03 00:00:00             0   \n",
       "341474     volkswagen                no  2016-03-18 00:00:00             0   \n",
       "\n",
       "        postalCode             lastSeen  \n",
       "43501        36391  2016-03-18 18:46:15  \n",
       "92386        89518  2016-03-09 09:46:57  \n",
       "95425        66589  2016-03-28 08:46:21  \n",
       "179448       89518  2016-03-09 09:46:57  \n",
       "196894       75196  2016-04-07 09:44:54  \n",
       "242556       66589  2016-03-28 08:46:21  \n",
       "270719       75196  2016-04-07 09:44:54  \n",
       "341474       36391  2016-03-18 18:46:15  "
      ]
     },
     "execution_count": 4,
     "metadata": {},
     "output_type": "execute_result"
    }
   ],
   "source": [
    "df_duplicados = df[df.duplicated(keep=False)]\n",
    "df_duplicados"
   ]
  },
  {
   "cell_type": "markdown",
   "metadata": {},
   "source": [
    "### parece que se trata de un 'error' a la hora de obtener los datos, asi que nos los quitamos"
   ]
  },
  {
   "cell_type": "code",
   "execution_count": 5,
   "metadata": {},
   "outputs": [
    {
     "data": {
      "text/plain": [
       "0"
      ]
     },
     "execution_count": 5,
     "metadata": {},
     "output_type": "execute_result"
    }
   ],
   "source": [
    "df.drop_duplicates(inplace=True)\n",
    "df.reset_index(inplace=True, drop=True)\n",
    "df.duplicated().sum()"
   ]
  },
  {
   "cell_type": "markdown",
   "metadata": {},
   "source": [
    "## Ahora hacemos una exploracion inicial"
   ]
  },
  {
   "cell_type": "code",
   "execution_count": 6,
   "metadata": {},
   "outputs": [
    {
     "name": "stdout",
     "output_type": "stream",
     "text": [
      "El número de filas es 371524 y el número de columnas es 20\n",
      "\n",
      "----------\n",
      "\n",
      "En este conjunto de datos tenemos 0 valores duplicados\n",
      "\n",
      "----------\n",
      "\n",
      "Los columnas con valores nulos y sus porcentajes son: \n"
     ]
    },
    {
     "data": {
      "text/plain": [
       "vehicleType          36.003865\n",
       "gearbox               5.439487\n",
       "model                 5.513507\n",
       "fuelType              8.986230\n",
       "notRepairedDamage    19.395786\n",
       "dtype: float64"
      ]
     },
     "metadata": {},
     "output_type": "display_data"
    },
    {
     "name": "stdout",
     "output_type": "stream",
     "text": [
      "\n",
      "----------\n",
      "\n",
      "Las principales estadísticas de las variables númericas son:\n"
     ]
    },
    {
     "data": {
      "text/html": [
       "<div>\n",
       "<style scoped>\n",
       "    .dataframe tbody tr th:only-of-type {\n",
       "        vertical-align: middle;\n",
       "    }\n",
       "\n",
       "    .dataframe tbody tr th {\n",
       "        vertical-align: top;\n",
       "    }\n",
       "\n",
       "    .dataframe thead th {\n",
       "        text-align: right;\n",
       "    }\n",
       "</style>\n",
       "<table border=\"1\" class=\"dataframe\">\n",
       "  <thead>\n",
       "    <tr style=\"text-align: right;\">\n",
       "      <th></th>\n",
       "      <th>count</th>\n",
       "      <th>mean</th>\n",
       "      <th>std</th>\n",
       "      <th>min</th>\n",
       "      <th>25%</th>\n",
       "      <th>50%</th>\n",
       "      <th>75%</th>\n",
       "      <th>max</th>\n",
       "    </tr>\n",
       "  </thead>\n",
       "  <tbody>\n",
       "    <tr>\n",
       "      <th>price</th>\n",
       "      <td>371524.0</td>\n",
       "      <td>17295.302511</td>\n",
       "      <td>3.587973e+06</td>\n",
       "      <td>0.0</td>\n",
       "      <td>1150.0</td>\n",
       "      <td>2950.0</td>\n",
       "      <td>7200.0</td>\n",
       "      <td>2.147484e+09</td>\n",
       "    </tr>\n",
       "    <tr>\n",
       "      <th>yearOfRegistration</th>\n",
       "      <td>371524.0</td>\n",
       "      <td>2004.578033</td>\n",
       "      <td>9.286710e+01</td>\n",
       "      <td>1000.0</td>\n",
       "      <td>1999.0</td>\n",
       "      <td>2003.0</td>\n",
       "      <td>2008.0</td>\n",
       "      <td>9.999000e+03</td>\n",
       "    </tr>\n",
       "    <tr>\n",
       "      <th>powerCV</th>\n",
       "      <td>371524.0</td>\n",
       "      <td>113.967402</td>\n",
       "      <td>1.895175e+02</td>\n",
       "      <td>0.0</td>\n",
       "      <td>69.0</td>\n",
       "      <td>104.0</td>\n",
       "      <td>148.0</td>\n",
       "      <td>1.972600e+04</td>\n",
       "    </tr>\n",
       "    <tr>\n",
       "      <th>kilometer</th>\n",
       "      <td>371524.0</td>\n",
       "      <td>125618.842928</td>\n",
       "      <td>4.011214e+04</td>\n",
       "      <td>5000.0</td>\n",
       "      <td>125000.0</td>\n",
       "      <td>150000.0</td>\n",
       "      <td>150000.0</td>\n",
       "      <td>1.500000e+05</td>\n",
       "    </tr>\n",
       "    <tr>\n",
       "      <th>monthOfRegistration</th>\n",
       "      <td>371524.0</td>\n",
       "      <td>5.734451</td>\n",
       "      <td>3.712423e+00</td>\n",
       "      <td>0.0</td>\n",
       "      <td>3.0</td>\n",
       "      <td>6.0</td>\n",
       "      <td>9.0</td>\n",
       "      <td>1.200000e+01</td>\n",
       "    </tr>\n",
       "    <tr>\n",
       "      <th>nrOfPictures</th>\n",
       "      <td>371524.0</td>\n",
       "      <td>0.000000</td>\n",
       "      <td>0.000000e+00</td>\n",
       "      <td>0.0</td>\n",
       "      <td>0.0</td>\n",
       "      <td>0.0</td>\n",
       "      <td>0.0</td>\n",
       "      <td>0.000000e+00</td>\n",
       "    </tr>\n",
       "    <tr>\n",
       "      <th>postalCode</th>\n",
       "      <td>371524.0</td>\n",
       "      <td>50820.494270</td>\n",
       "      <td>2.579909e+04</td>\n",
       "      <td>1067.0</td>\n",
       "      <td>30459.0</td>\n",
       "      <td>49610.0</td>\n",
       "      <td>71546.0</td>\n",
       "      <td>9.999800e+04</td>\n",
       "    </tr>\n",
       "  </tbody>\n",
       "</table>\n",
       "</div>"
      ],
      "text/plain": [
       "                        count           mean           std     min       25%  \\\n",
       "price                371524.0   17295.302511  3.587973e+06     0.0    1150.0   \n",
       "yearOfRegistration   371524.0    2004.578033  9.286710e+01  1000.0    1999.0   \n",
       "powerCV              371524.0     113.967402  1.895175e+02     0.0      69.0   \n",
       "kilometer            371524.0  125618.842928  4.011214e+04  5000.0  125000.0   \n",
       "monthOfRegistration  371524.0       5.734451  3.712423e+00     0.0       3.0   \n",
       "nrOfPictures         371524.0       0.000000  0.000000e+00     0.0       0.0   \n",
       "postalCode           371524.0   50820.494270  2.579909e+04  1067.0   30459.0   \n",
       "\n",
       "                          50%       75%           max  \n",
       "price                  2950.0    7200.0  2.147484e+09  \n",
       "yearOfRegistration     2003.0    2008.0  9.999000e+03  \n",
       "powerCV                 104.0     148.0  1.972600e+04  \n",
       "kilometer            150000.0  150000.0  1.500000e+05  \n",
       "monthOfRegistration       6.0       9.0  1.200000e+01  \n",
       "nrOfPictures              0.0       0.0  0.000000e+00  \n",
       "postalCode            49610.0   71546.0  9.999800e+04  "
      ]
     },
     "metadata": {},
     "output_type": "display_data"
    },
    {
     "name": "stdout",
     "output_type": "stream",
     "text": [
      "\n",
      "----------\n",
      "\n",
      "Las principales estadísticas de las variables categóricas son:\n"
     ]
    },
    {
     "data": {
      "text/html": [
       "<div>\n",
       "<style scoped>\n",
       "    .dataframe tbody tr th:only-of-type {\n",
       "        vertical-align: middle;\n",
       "    }\n",
       "\n",
       "    .dataframe tbody tr th {\n",
       "        vertical-align: top;\n",
       "    }\n",
       "\n",
       "    .dataframe thead th {\n",
       "        text-align: right;\n",
       "    }\n",
       "</style>\n",
       "<table border=\"1\" class=\"dataframe\">\n",
       "  <thead>\n",
       "    <tr style=\"text-align: right;\">\n",
       "      <th></th>\n",
       "      <th>count</th>\n",
       "      <th>unique</th>\n",
       "      <th>top</th>\n",
       "      <th>freq</th>\n",
       "    </tr>\n",
       "  </thead>\n",
       "  <tbody>\n",
       "    <tr>\n",
       "      <th>dateCrawled</th>\n",
       "      <td>371524</td>\n",
       "      <td>280500</td>\n",
       "      <td>2016-03-24 14:49:47</td>\n",
       "      <td>7</td>\n",
       "    </tr>\n",
       "    <tr>\n",
       "      <th>name</th>\n",
       "      <td>371524</td>\n",
       "      <td>233531</td>\n",
       "      <td>Ford_Fiesta</td>\n",
       "      <td>657</td>\n",
       "    </tr>\n",
       "    <tr>\n",
       "      <th>seller</th>\n",
       "      <td>371524</td>\n",
       "      <td>2</td>\n",
       "      <td>private</td>\n",
       "      <td>371521</td>\n",
       "    </tr>\n",
       "    <tr>\n",
       "      <th>offerType</th>\n",
       "      <td>371524</td>\n",
       "      <td>2</td>\n",
       "      <td>offer</td>\n",
       "      <td>371512</td>\n",
       "    </tr>\n",
       "    <tr>\n",
       "      <th>abtest</th>\n",
       "      <td>371524</td>\n",
       "      <td>2</td>\n",
       "      <td>test</td>\n",
       "      <td>192583</td>\n",
       "    </tr>\n",
       "    <tr>\n",
       "      <th>vehicleType</th>\n",
       "      <td>237761</td>\n",
       "      <td>7</td>\n",
       "      <td>small car</td>\n",
       "      <td>80022</td>\n",
       "    </tr>\n",
       "    <tr>\n",
       "      <th>gearbox</th>\n",
       "      <td>351315</td>\n",
       "      <td>2</td>\n",
       "      <td>manually</td>\n",
       "      <td>274212</td>\n",
       "    </tr>\n",
       "    <tr>\n",
       "      <th>model</th>\n",
       "      <td>351040</td>\n",
       "      <td>251</td>\n",
       "      <td>golf</td>\n",
       "      <td>30070</td>\n",
       "    </tr>\n",
       "    <tr>\n",
       "      <th>fuelType</th>\n",
       "      <td>338138</td>\n",
       "      <td>7</td>\n",
       "      <td>petrol</td>\n",
       "      <td>223854</td>\n",
       "    </tr>\n",
       "    <tr>\n",
       "      <th>brand</th>\n",
       "      <td>371524</td>\n",
       "      <td>40</td>\n",
       "      <td>volkswagen</td>\n",
       "      <td>79639</td>\n",
       "    </tr>\n",
       "    <tr>\n",
       "      <th>notRepairedDamage</th>\n",
       "      <td>299464</td>\n",
       "      <td>2</td>\n",
       "      <td>no</td>\n",
       "      <td>263179</td>\n",
       "    </tr>\n",
       "    <tr>\n",
       "      <th>dateCreated</th>\n",
       "      <td>371524</td>\n",
       "      <td>114</td>\n",
       "      <td>2016-04-03 00:00:00</td>\n",
       "      <td>14449</td>\n",
       "    </tr>\n",
       "    <tr>\n",
       "      <th>lastSeen</th>\n",
       "      <td>371524</td>\n",
       "      <td>182806</td>\n",
       "      <td>2016-04-07 06:45:59</td>\n",
       "      <td>17</td>\n",
       "    </tr>\n",
       "  </tbody>\n",
       "</table>\n",
       "</div>"
      ],
      "text/plain": [
       "                    count  unique                  top    freq\n",
       "dateCrawled        371524  280500  2016-03-24 14:49:47       7\n",
       "name               371524  233531          Ford_Fiesta     657\n",
       "seller             371524       2              private  371521\n",
       "offerType          371524       2                offer  371512\n",
       "abtest             371524       2                 test  192583\n",
       "vehicleType        237761       7            small car   80022\n",
       "gearbox            351315       2             manually  274212\n",
       "model              351040     251                 golf   30070\n",
       "fuelType           338138       7               petrol  223854\n",
       "brand              371524      40           volkswagen   79639\n",
       "notRepairedDamage  299464       2                   no  263179\n",
       "dateCreated        371524     114  2016-04-03 00:00:00   14449\n",
       "lastSeen           371524  182806  2016-04-07 06:45:59      17"
      ]
     },
     "metadata": {},
     "output_type": "display_data"
    },
    {
     "name": "stdout",
     "output_type": "stream",
     "text": [
      "\n",
      "----------\n",
      "\n",
      "Las características principales del dataframe son:\n",
      "<class 'pandas.core.frame.DataFrame'>\n",
      "RangeIndex: 371524 entries, 0 to 371523\n",
      "Data columns (total 20 columns):\n",
      " #   Column               Non-Null Count   Dtype  \n",
      "---  ------               --------------   -----  \n",
      " 0   dateCrawled          371524 non-null  object \n",
      " 1   name                 371524 non-null  object \n",
      " 2   seller               371524 non-null  object \n",
      " 3   offerType            371524 non-null  object \n",
      " 4   price                371524 non-null  int64  \n",
      " 5   abtest               371524 non-null  object \n",
      " 6   vehicleType          237761 non-null  object \n",
      " 7   yearOfRegistration   371524 non-null  int64  \n",
      " 8   gearbox              351315 non-null  object \n",
      " 9   powerCV              371524 non-null  float64\n",
      " 10  model                351040 non-null  object \n",
      " 11  kilometer            371524 non-null  int64  \n",
      " 12  monthOfRegistration  371524 non-null  int64  \n",
      " 13  fuelType             338138 non-null  object \n",
      " 14  brand                371524 non-null  object \n",
      " 15  notRepairedDamage    299464 non-null  object \n",
      " 16  dateCreated          371524 non-null  object \n",
      " 17  nrOfPictures         371524 non-null  int64  \n",
      " 18  postalCode           371524 non-null  int64  \n",
      " 19  lastSeen             371524 non-null  object \n",
      "dtypes: float64(1), int64(6), object(13)\n",
      "memory usage: 56.7+ MB\n"
     ]
    },
    {
     "data": {
      "text/plain": [
       "None"
      ]
     },
     "metadata": {},
     "output_type": "display_data"
    }
   ],
   "source": [
    "sup_prep.exploracion_datos(df)"
   ]
  },
  {
   "cell_type": "markdown",
   "metadata": {},
   "source": [
    "## Representamos nuestras varibales numericas"
   ]
  },
  {
   "cell_type": "code",
   "execution_count": 7,
   "metadata": {},
   "outputs": [],
   "source": [
    "visualizador = sup_prep.Visualizador(df)"
   ]
  },
  {
   "cell_type": "code",
   "execution_count": 8,
   "metadata": {},
   "outputs": [
    {
     "name": "stderr",
     "output_type": "stream",
     "text": [
      "7it [00:01,  6.93it/s]\n"
     ]
    },
    {
     "data": {
      "image/png": "[encoded data removed]",
      "text/plain": [
       "<Figure size 1400x1200 with 8 Axes>"
      ]
     },
     "metadata": {},
     "output_type": "display_data"
    }
   ],
   "source": [
    "visualizador.plot_numericas(tamano_grafica=(14,12), color='purple')"
   ]
  },
  {
   "cell_type": "markdown",
   "metadata": {},
   "source": [
    "#### Vemos que tenemos elementos como el numero de fotos que está a cero (cosa que también veíamos en el describe) y aunque se ve un poco mal en las graficas, podemos apreciar que tenemos en principio bastantes outlayers y ninguna distribucion normal."
   ]
  },
  {
   "cell_type": "code",
   "execution_count": 9,
   "metadata": {},
   "outputs": [
    {
     "data": {
      "image/png": "[encoded data removed]",
      "text/plain": [
       "<Figure size 1500x500 with 7 Axes>"
      ]
     },
     "metadata": {},
     "output_type": "display_data"
    }
   ],
   "source": [
    "visualizador.deteccion_outliers(color='red')"
   ]
  },
  {
   "cell_type": "markdown",
   "metadata": {},
   "source": [
    "### confirmamos que tenemos bastantes outlayers.\n",
    "\n",
    "### Ahora veamos si apriori hay relacion entre nuestras variables numericas."
   ]
  },
  {
   "cell_type": "code",
   "execution_count": 10,
   "metadata": {},
   "outputs": [
    {
     "data": {
      "image/png": "[encoded data removed]",
      "text/plain": [
       "<Figure size 700x500 with 2 Axes>"
      ]
     },
     "metadata": {},
     "output_type": "display_data"
    }
   ],
   "source": [
    "visualizador.correlacion()"
   ]
  },
  {
   "cell_type": "markdown",
   "metadata": {},
   "source": [
    "### vemos que en principio no hay relacion entre ninguna variable"
   ]
  },
  {
   "cell_type": "markdown",
   "metadata": {},
   "source": [
    "<hr>\n",
    "\n",
    "## Procedemos a eliminar la columna `nrOfPictures` ya que siempre es 0"
   ]
  },
  {
   "cell_type": "code",
   "execution_count": 11,
   "metadata": {},
   "outputs": [
    {
     "data": {
      "text/plain": [
       "nrOfPictures\n",
       "0    371524\n",
       "Name: count, dtype: int64"
      ]
     },
     "execution_count": 11,
     "metadata": {},
     "output_type": "execute_result"
    }
   ],
   "source": [
    "df['nrOfPictures'].value_counts()"
   ]
  },
  {
   "cell_type": "code",
   "execution_count": 12,
   "metadata": {},
   "outputs": [],
   "source": [
    "df.drop(columns=['nrOfPictures'], inplace=True)"
   ]
  },
  {
   "cell_type": "markdown",
   "metadata": {},
   "source": [
    "## Para continuar con el EDA, vamos a separar las variables e ir analizandolas individualmente.\n",
    "\n",
    "### Comenzamos con nuestras variables numericas."
   ]
  },
  {
   "cell_type": "code",
   "execution_count": 13,
   "metadata": {},
   "outputs": [
    {
     "data": {
      "text/html": [
       "<div>\n",
       "<style scoped>\n",
       "    .dataframe tbody tr th:only-of-type {\n",
       "        vertical-align: middle;\n",
       "    }\n",
       "\n",
       "    .dataframe tbody tr th {\n",
       "        vertical-align: top;\n",
       "    }\n",
       "\n",
       "    .dataframe thead th {\n",
       "        text-align: right;\n",
       "    }\n",
       "</style>\n",
       "<table border=\"1\" class=\"dataframe\">\n",
       "  <thead>\n",
       "    <tr style=\"text-align: right;\">\n",
       "      <th></th>\n",
       "      <th>price</th>\n",
       "      <th>yearOfRegistration</th>\n",
       "      <th>powerCV</th>\n",
       "      <th>kilometer</th>\n",
       "      <th>monthOfRegistration</th>\n",
       "      <th>postalCode</th>\n",
       "    </tr>\n",
       "  </thead>\n",
       "  <tbody>\n",
       "    <tr>\n",
       "      <th>159613</th>\n",
       "      <td>250</td>\n",
       "      <td>1987</td>\n",
       "      <td>86.0</td>\n",
       "      <td>150000</td>\n",
       "      <td>4</td>\n",
       "      <td>97258</td>\n",
       "    </tr>\n",
       "    <tr>\n",
       "      <th>342770</th>\n",
       "      <td>11900</td>\n",
       "      <td>2011</td>\n",
       "      <td>123.0</td>\n",
       "      <td>125000</td>\n",
       "      <td>8</td>\n",
       "      <td>16359</td>\n",
       "    </tr>\n",
       "  </tbody>\n",
       "</table>\n",
       "</div>"
      ],
      "text/plain": [
       "        price  yearOfRegistration  powerCV  kilometer  monthOfRegistration  \\\n",
       "159613    250                1987     86.0     150000                    4   \n",
       "342770  11900                2011    123.0     125000                    8   \n",
       "\n",
       "        postalCode  \n",
       "159613       97258  \n",
       "342770       16359  "
      ]
     },
     "execution_count": 13,
     "metadata": {},
     "output_type": "execute_result"
    }
   ],
   "source": [
    "df_numericas = df.select_dtypes(np.number)\n",
    "df_numericas.sample(2)"
   ]
  },
  {
   "cell_type": "markdown",
   "metadata": {},
   "source": [
    "### Como precio es nuestra variable dependiente, no la vamos a tocar.\n",
    "\n",
    "### Analizamos ```yearOfRegistration```"
   ]
  },
  {
   "cell_type": "code",
   "execution_count": 14,
   "metadata": {},
   "outputs": [
    {
     "data": {
      "text/plain": [
       "<Axes: xlabel='yearOfRegistration'>"
      ]
     },
     "execution_count": 14,
     "metadata": {},
     "output_type": "execute_result"
    },
    {
     "data": {
      "image/png": "[encoded data removed]",
      "text/plain": [
       "<Figure size 640x480 with 1 Axes>"
      ]
     },
     "metadata": {},
     "output_type": "display_data"
    }
   ],
   "source": [
    "sns.boxplot(x=df['yearOfRegistration'])"
   ]
  },
  {
   "cell_type": "code",
   "execution_count": 15,
   "metadata": {},
   "outputs": [
    {
     "data": {
      "text/plain": [
       "count    371524.000000\n",
       "mean       2004.578033\n",
       "std          92.867097\n",
       "min        1000.000000\n",
       "25%        1999.000000\n",
       "50%        2003.000000\n",
       "75%        2008.000000\n",
       "max        9999.000000\n",
       "Name: yearOfRegistration, dtype: float64"
      ]
     },
     "execution_count": 15,
     "metadata": {},
     "output_type": "execute_result"
    }
   ],
   "source": [
    "df['yearOfRegistration'].describe()"
   ]
  },
  {
   "cell_type": "markdown",
   "metadata": {},
   "source": [
    "### Creamos un diccionario para categorizar los anios y una funcion para categorizar los anios de nuestro dataframe"
   ]
  },
  {
   "cell_type": "code",
   "execution_count": 16,
   "metadata": {},
   "outputs": [],
   "source": [
    "categorias_anios = {\n",
    "    \"Antiguo\": [1886,1899],\n",
    "    \"Siglo XX\": [1900,1999],\n",
    "    \"Moderno \": [2000,2024]\n",
    "}#! todo lo que quede fuera de esto son anios irreales\n",
    "\n",
    "def categorizar_anios(anio):\n",
    "    categoria = 'irreal'\n",
    "    for clave, valor in categorias_anios.items():\n",
    "        if anio in range(valor[0], valor[1]):\n",
    "            categoria = clave\n",
    "    \n",
    "    return categoria\n",
    "\n",
    "\n",
    "df['yearOfRegistration'] = df['yearOfRegistration'].map(categorizar_anios)"
   ]
  },
  {
   "cell_type": "code",
   "execution_count": 17,
   "metadata": {},
   "outputs": [
    {
     "data": {
      "text/plain": [
       "array(['Siglo XX', 'Moderno ', 'irreal'], dtype=object)"
      ]
     },
     "execution_count": 17,
     "metadata": {},
     "output_type": "execute_result"
    }
   ],
   "source": [
    "df['yearOfRegistration'].unique()"
   ]
  },
  {
   "cell_type": "markdown",
   "metadata": {},
   "source": [
    "## Analizamos ```powerCV```"
   ]
  },
  {
   "cell_type": "code",
   "execution_count": 18,
   "metadata": {},
   "outputs": [
    {
     "data": {
      "text/html": [
       "<div>\n",
       "<style scoped>\n",
       "    .dataframe tbody tr th:only-of-type {\n",
       "        vertical-align: middle;\n",
       "    }\n",
       "\n",
       "    .dataframe tbody tr th {\n",
       "        vertical-align: top;\n",
       "    }\n",
       "\n",
       "    .dataframe thead th {\n",
       "        text-align: right;\n",
       "    }\n",
       "</style>\n",
       "<table border=\"1\" class=\"dataframe\">\n",
       "  <thead>\n",
       "    <tr style=\"text-align: right;\">\n",
       "      <th></th>\n",
       "      <th>0</th>\n",
       "      <th>1</th>\n",
       "      <th>2</th>\n",
       "      <th>3</th>\n",
       "      <th>4</th>\n",
       "      <th>5</th>\n",
       "      <th>6</th>\n",
       "      <th>7</th>\n",
       "    </tr>\n",
       "  </thead>\n",
       "  <tbody>\n",
       "    <tr>\n",
       "      <th>index</th>\n",
       "      <td>count</td>\n",
       "      <td>mean</td>\n",
       "      <td>std</td>\n",
       "      <td>min</td>\n",
       "      <td>25%</td>\n",
       "      <td>50%</td>\n",
       "      <td>75%</td>\n",
       "      <td>max</td>\n",
       "    </tr>\n",
       "    <tr>\n",
       "      <th>powerCV</th>\n",
       "      <td>371524.0</td>\n",
       "      <td>113.967402</td>\n",
       "      <td>189.517492</td>\n",
       "      <td>0.0</td>\n",
       "      <td>69.0</td>\n",
       "      <td>104.0</td>\n",
       "      <td>148.0</td>\n",
       "      <td>19726.0</td>\n",
       "    </tr>\n",
       "  </tbody>\n",
       "</table>\n",
       "</div>"
      ],
      "text/plain": [
       "                0           1           2    3     4      5      6        7\n",
       "index       count        mean         std  min   25%    50%    75%      max\n",
       "powerCV  371524.0  113.967402  189.517492  0.0  69.0  104.0  148.0  19726.0"
      ]
     },
     "execution_count": 18,
     "metadata": {},
     "output_type": "execute_result"
    }
   ],
   "source": [
    "df['powerCV'].describe().reset_index().T"
   ]
  },
  {
   "cell_type": "code",
   "execution_count": 19,
   "metadata": {},
   "outputs": [
    {
     "data": {
      "text/plain": [
       "<Axes: ylabel='powerCV'>"
      ]
     },
     "execution_count": 19,
     "metadata": {},
     "output_type": "execute_result"
    },
    {
     "data": {
      "image/png": "[encoded data removed]",
      "text/plain": [
       "<Figure size 640x480 with 1 Axes>"
      ]
     },
     "metadata": {},
     "output_type": "display_data"
    }
   ],
   "source": [
    "sns.scatterplot(df['powerCV'])"
   ]
  },
  {
   "cell_type": "markdown",
   "metadata": {},
   "source": [
    "### Tras buscar en internet he visto que los coches pueden tener como minimo 50hp (en el caso de los coches modernos por ser electricos y en los antiguos por la potencia que tenian) y el maximo es 2000 como caso extremo\n",
    "\n",
    "### Entonces, voy a poner a nulo los valores que no se encuentren entre estos valores"
   ]
  },
  {
   "cell_type": "code",
   "execution_count": 20,
   "metadata": {},
   "outputs": [
    {
     "data": {
      "text/plain": [
       "0"
      ]
     },
     "execution_count": 20,
     "metadata": {},
     "output_type": "execute_result"
    }
   ],
   "source": [
    "df['powerCV'].isna().sum()"
   ]
  },
  {
   "cell_type": "markdown",
   "metadata": {},
   "source": [
    "### vemos nuestros datos antes de marcar como nulos los valores irreales."
   ]
  },
  {
   "cell_type": "code",
   "execution_count": 21,
   "metadata": {},
   "outputs": [
    {
     "data": {
      "text/plain": [
       "<Axes: xlabel='powerCV', ylabel='Count'>"
      ]
     },
     "execution_count": 21,
     "metadata": {},
     "output_type": "execute_result"
    },
    {
     "data": {
      "image/png": "[encoded data removed]",
      "text/plain": [
       "<Figure size 640x480 with 1 Axes>"
      ]
     },
     "metadata": {},
     "output_type": "display_data"
    }
   ],
   "source": [
    "sns.histplot(df['powerCV'], kde=True)"
   ]
  },
  {
   "cell_type": "markdown",
   "metadata": {},
   "source": [
    "### cambiamos a nulos los valores irreales."
   ]
  },
  {
   "cell_type": "code",
   "execution_count": 22,
   "metadata": {},
   "outputs": [
    {
     "data": {
      "text/plain": [
       "51592"
      ]
     },
     "execution_count": 22,
     "metadata": {},
     "output_type": "execute_result"
    }
   ],
   "source": [
    "df['powerCV'] = df['powerCV'].map(lambda x: x if 50 <= x <= 2000 else np.nan)\n",
    "\n",
    "df['powerCV'].isna().sum()"
   ]
  },
  {
   "cell_type": "markdown",
   "metadata": {},
   "source": [
    "### vemos el cambio en nuestros datos"
   ]
  },
  {
   "cell_type": "code",
   "execution_count": 23,
   "metadata": {},
   "outputs": [
    {
     "data": {
      "text/plain": [
       "<Axes: xlabel='powerCV', ylabel='Count'>"
      ]
     },
     "execution_count": 23,
     "metadata": {},
     "output_type": "execute_result"
    },
    {
     "data": {
      "image/png": "[encoded data removed]",
      "text/plain": [
       "<Figure size 640x480 with 1 Axes>"
      ]
     },
     "metadata": {},
     "output_type": "display_data"
    }
   ],
   "source": [
    "sns.histplot(df['powerCV'], kde=True)"
   ]
  },
  {
   "cell_type": "markdown",
   "metadata": {},
   "source": [
    "### (ahora nos han quedado 51592 nulos que imputaremos mas tarde)"
   ]
  },
  {
   "cell_type": "markdown",
   "metadata": {},
   "source": [
    "<hr>\n",
    "\n",
    "## Ahora analizamos las variables categoricas"
   ]
  },
  {
   "cell_type": "code",
   "execution_count": 24,
   "metadata": {},
   "outputs": [
    {
     "data": {
      "text/html": [
       "<div>\n",
       "<style scoped>\n",
       "    .dataframe tbody tr th:only-of-type {\n",
       "        vertical-align: middle;\n",
       "    }\n",
       "\n",
       "    .dataframe tbody tr th {\n",
       "        vertical-align: top;\n",
       "    }\n",
       "\n",
       "    .dataframe thead th {\n",
       "        text-align: right;\n",
       "    }\n",
       "</style>\n",
       "<table border=\"1\" class=\"dataframe\">\n",
       "  <thead>\n",
       "    <tr style=\"text-align: right;\">\n",
       "      <th></th>\n",
       "      <th>dateCrawled</th>\n",
       "      <th>name</th>\n",
       "      <th>seller</th>\n",
       "      <th>offerType</th>\n",
       "      <th>abtest</th>\n",
       "      <th>vehicleType</th>\n",
       "      <th>yearOfRegistration</th>\n",
       "      <th>gearbox</th>\n",
       "      <th>model</th>\n",
       "      <th>fuelType</th>\n",
       "      <th>brand</th>\n",
       "      <th>notRepairedDamage</th>\n",
       "      <th>dateCreated</th>\n",
       "      <th>lastSeen</th>\n",
       "    </tr>\n",
       "  </thead>\n",
       "  <tbody>\n",
       "    <tr>\n",
       "      <th>338725</th>\n",
       "      <td>2016-04-05 00:53:37</td>\n",
       "      <td>VW_T4_Multivan_Generation</td>\n",
       "      <td>private</td>\n",
       "      <td>offer</td>\n",
       "      <td>control</td>\n",
       "      <td>bus</td>\n",
       "      <td>Moderno</td>\n",
       "      <td>automatic</td>\n",
       "      <td>transporter</td>\n",
       "      <td>diesel</td>\n",
       "      <td>volkswagen</td>\n",
       "      <td>no</td>\n",
       "      <td>2016-04-04 00:00:00</td>\n",
       "      <td>2016-04-05 06:46:40</td>\n",
       "    </tr>\n",
       "    <tr>\n",
       "      <th>284074</th>\n",
       "      <td>2016-03-24 22:57:32</td>\n",
       "      <td>Audi_A4_Avant_2.0</td>\n",
       "      <td>private</td>\n",
       "      <td>offer</td>\n",
       "      <td>control</td>\n",
       "      <td>combi</td>\n",
       "      <td>Moderno</td>\n",
       "      <td>manually</td>\n",
       "      <td>a4</td>\n",
       "      <td>petrol</td>\n",
       "      <td>audi</td>\n",
       "      <td>no</td>\n",
       "      <td>2016-03-24 00:00:00</td>\n",
       "      <td>2016-03-26 16:44:53</td>\n",
       "    </tr>\n",
       "  </tbody>\n",
       "</table>\n",
       "</div>"
      ],
      "text/plain": [
       "                dateCrawled                       name   seller offerType  \\\n",
       "338725  2016-04-05 00:53:37  VW_T4_Multivan_Generation  private     offer   \n",
       "284074  2016-03-24 22:57:32          Audi_A4_Avant_2.0  private     offer   \n",
       "\n",
       "         abtest vehicleType yearOfRegistration    gearbox        model  \\\n",
       "338725  control         bus           Moderno   automatic  transporter   \n",
       "284074  control       combi           Moderno    manually           a4   \n",
       "\n",
       "       fuelType       brand notRepairedDamage          dateCreated  \\\n",
       "338725   diesel  volkswagen                no  2016-04-04 00:00:00   \n",
       "284074   petrol        audi                no  2016-03-24 00:00:00   \n",
       "\n",
       "                   lastSeen  \n",
       "338725  2016-04-05 06:46:40  \n",
       "284074  2016-03-26 16:44:53  "
      ]
     },
     "execution_count": 24,
     "metadata": {},
     "output_type": "execute_result"
    }
   ],
   "source": [
    "df_cate = df.select_dtypes('O')\n",
    "df_cate.sample(2)"
   ]
  },
  {
   "cell_type": "markdown",
   "metadata": {},
   "source": [
    "### Recordamos los nulos que tenemos"
   ]
  },
  {
   "cell_type": "code",
   "execution_count": 25,
   "metadata": {},
   "outputs": [
    {
     "data": {
      "text/plain": [
       "vehicleType          36.003865\n",
       "gearbox               5.439487\n",
       "powerCV              13.886586\n",
       "model                 5.513507\n",
       "fuelType              8.986230\n",
       "notRepairedDamage    19.395786\n",
       "dtype: float64"
      ]
     },
     "execution_count": 25,
     "metadata": {},
     "output_type": "execute_result"
    }
   ],
   "source": [
    "gn = sup_nul.GestionNulos(df)\n",
    "gn.calcular_porcentaje_nulos()"
   ]
  },
  {
   "cell_type": "markdown",
   "metadata": {},
   "source": [
    "### Como variables numericas solo nos queda powerCV. Las demas son categoricas, por lo que vamos a tratarlas.\n",
    "\n",
    "### Comenzamos por ```vehicleType```"
   ]
  },
  {
   "cell_type": "code",
   "execution_count": 26,
   "metadata": {},
   "outputs": [
    {
     "data": {
      "text/plain": [
       "133763"
      ]
     },
     "execution_count": 26,
     "metadata": {},
     "output_type": "execute_result"
    }
   ],
   "source": [
    "df['vehicleType'].isna().sum()"
   ]
  },
  {
   "cell_type": "code",
   "execution_count": 27,
   "metadata": {},
   "outputs": [
    {
     "data": {
      "text/plain": [
       "vehicleType\n",
       "small car      0.336565\n",
       "combi          0.284164\n",
       "bus            0.127023\n",
       "convertible    0.096307\n",
       "coupe          0.079967\n",
       "suv            0.061856\n",
       "other          0.014119\n",
       "Name: proportion, dtype: float64"
      ]
     },
     "execution_count": 27,
     "metadata": {},
     "output_type": "execute_result"
    }
   ],
   "source": [
    "df['vehicleType'].value_counts(normalize=True)"
   ]
  },
  {
   "cell_type": "markdown",
   "metadata": {},
   "source": [
    "### (vemos que no hay un valor predominante)"
   ]
  },
  {
   "cell_type": "code",
   "execution_count": 28,
   "metadata": {},
   "outputs": [
    {
     "data": {
      "text/html": [
       "<div>\n",
       "<style scoped>\n",
       "    .dataframe tbody tr th:only-of-type {\n",
       "        vertical-align: middle;\n",
       "    }\n",
       "\n",
       "    .dataframe tbody tr th {\n",
       "        vertical-align: top;\n",
       "    }\n",
       "\n",
       "    .dataframe thead th {\n",
       "        text-align: right;\n",
       "    }\n",
       "</style>\n",
       "<table border=\"1\" class=\"dataframe\">\n",
       "  <thead>\n",
       "    <tr style=\"text-align: right;\">\n",
       "      <th></th>\n",
       "      <th>dateCrawled</th>\n",
       "      <th>name</th>\n",
       "      <th>seller</th>\n",
       "      <th>offerType</th>\n",
       "      <th>price</th>\n",
       "      <th>abtest</th>\n",
       "      <th>vehicleType</th>\n",
       "      <th>yearOfRegistration</th>\n",
       "      <th>gearbox</th>\n",
       "      <th>powerCV</th>\n",
       "      <th>model</th>\n",
       "      <th>kilometer</th>\n",
       "      <th>monthOfRegistration</th>\n",
       "      <th>fuelType</th>\n",
       "      <th>brand</th>\n",
       "      <th>notRepairedDamage</th>\n",
       "      <th>dateCreated</th>\n",
       "      <th>postalCode</th>\n",
       "      <th>lastSeen</th>\n",
       "    </tr>\n",
       "  </thead>\n",
       "  <tbody>\n",
       "    <tr>\n",
       "      <th>128147</th>\n",
       "      <td>2016-03-27 17:56:04</td>\n",
       "      <td>Bieten_treuen_opel_tuev_neu</td>\n",
       "      <td>private</td>\n",
       "      <td>offer</td>\n",
       "      <td>550</td>\n",
       "      <td>test</td>\n",
       "      <td>NaN</td>\n",
       "      <td>Siglo XX</td>\n",
       "      <td>NaN</td>\n",
       "      <td>NaN</td>\n",
       "      <td>omega</td>\n",
       "      <td>150000</td>\n",
       "      <td>4</td>\n",
       "      <td>NaN</td>\n",
       "      <td>opel</td>\n",
       "      <td>NaN</td>\n",
       "      <td>2016-03-27 00:00:00</td>\n",
       "      <td>25335</td>\n",
       "      <td>2016-04-05 14:16:18</td>\n",
       "    </tr>\n",
       "    <tr>\n",
       "      <th>326058</th>\n",
       "      <td>2016-03-22 23:58:45</td>\n",
       "      <td>Volkswagen_Golf_GTI_Performance_BlueMotion_Tec...</td>\n",
       "      <td>private</td>\n",
       "      <td>offer</td>\n",
       "      <td>27890</td>\n",
       "      <td>test</td>\n",
       "      <td>NaN</td>\n",
       "      <td>Moderno</td>\n",
       "      <td>automatic</td>\n",
       "      <td>296.0</td>\n",
       "      <td>golf</td>\n",
       "      <td>30000</td>\n",
       "      <td>7</td>\n",
       "      <td>petrol</td>\n",
       "      <td>volkswagen</td>\n",
       "      <td>no</td>\n",
       "      <td>2016-03-22 00:00:00</td>\n",
       "      <td>96450</td>\n",
       "      <td>2016-04-07 05:45:54</td>\n",
       "    </tr>\n",
       "  </tbody>\n",
       "</table>\n",
       "</div>"
      ],
      "text/plain": [
       "                dateCrawled  \\\n",
       "128147  2016-03-27 17:56:04   \n",
       "326058  2016-03-22 23:58:45   \n",
       "\n",
       "                                                     name   seller offerType  \\\n",
       "128147                        Bieten_treuen_opel_tuev_neu  private     offer   \n",
       "326058  Volkswagen_Golf_GTI_Performance_BlueMotion_Tec...  private     offer   \n",
       "\n",
       "        price abtest vehicleType yearOfRegistration    gearbox  powerCV  \\\n",
       "128147    550   test         NaN           Siglo XX        NaN      NaN   \n",
       "326058  27890   test         NaN           Moderno   automatic    296.0   \n",
       "\n",
       "        model  kilometer  monthOfRegistration fuelType       brand  \\\n",
       "128147  omega     150000                    4      NaN        opel   \n",
       "326058   golf      30000                    7   petrol  volkswagen   \n",
       "\n",
       "       notRepairedDamage          dateCreated  postalCode             lastSeen  \n",
       "128147               NaN  2016-03-27 00:00:00       25335  2016-04-05 14:16:18  \n",
       "326058                no  2016-03-22 00:00:00       96450  2016-04-07 05:45:54  "
      ]
     },
     "execution_count": 28,
     "metadata": {},
     "output_type": "execute_result"
    }
   ],
   "source": [
    "df_vehicleType_na = df[df['vehicleType'].isna()]\n",
    "df_vehicleType_na.sample(2)"
   ]
  },
  {
   "cell_type": "markdown",
   "metadata": {},
   "source": [
    "### vemos las 10 modelos a los que mas modelo de vehiculo les faltan"
   ]
  },
  {
   "cell_type": "code",
   "execution_count": 29,
   "metadata": {},
   "outputs": [
    {
     "data": {
      "text/plain": [
       "<Axes: xlabel='model', ylabel='count'>"
      ]
     },
     "execution_count": 29,
     "metadata": {},
     "output_type": "execute_result"
    },
    {
     "data": {
      "image/png": "[encoded data removed]",
      "text/plain": [
       "<Figure size 640x480 with 1 Axes>"
      ]
     },
     "metadata": {},
     "output_type": "display_data"
    }
   ],
   "source": [
    "sns.barplot(df_vehicleType_na['model'].value_counts()[:10])"
   ]
  },
  {
   "cell_type": "markdown",
   "metadata": {},
   "source": [
    "### (vemos que es golf con diferencia)\n",
    "\n",
    "### Analizamos ```gearbox```"
   ]
  },
  {
   "cell_type": "code",
   "execution_count": 30,
   "metadata": {},
   "outputs": [
    {
     "data": {
      "text/plain": [
       "gearbox\n",
       "manually     0.78053\n",
       "automatic    0.21947\n",
       "Name: proportion, dtype: float64"
      ]
     },
     "execution_count": 30,
     "metadata": {},
     "output_type": "execute_result"
    }
   ],
   "source": [
    "df['gearbox'].value_counts(normalize=True)"
   ]
  },
  {
   "cell_type": "markdown",
   "metadata": {},
   "source": [
    "#### aqui si que tenemos una clara dominancia por parte de 'manually'"
   ]
  },
  {
   "cell_type": "markdown",
   "metadata": {},
   "source": [
    "### Vemos ```model```"
   ]
  },
  {
   "cell_type": "code",
   "execution_count": 31,
   "metadata": {},
   "outputs": [
    {
     "data": {
      "text/plain": [
       "model\n",
       "golf               0.085660\n",
       "andere             0.075202\n",
       "3er                0.058589\n",
       "polo               0.037295\n",
       "corsa              0.035816\n",
       "                     ...   \n",
       "serie_2            0.000023\n",
       "rangerover         0.000017\n",
       "serie_3            0.000011\n",
       "serie_1            0.000006\n",
       "discovery_sport    0.000003\n",
       "Name: proportion, Length: 251, dtype: float64"
      ]
     },
     "execution_count": 31,
     "metadata": {},
     "output_type": "execute_result"
    }
   ],
   "source": [
    "df['model'].value_counts(normalize=True)"
   ]
  },
  {
   "cell_type": "markdown",
   "metadata": {},
   "source": [
    "#### (aqui no tenemos ninguna predominante)"
   ]
  },
  {
   "cell_type": "markdown",
   "metadata": {},
   "source": [
    "### Vemos ```notRepairedDamage```"
   ]
  },
  {
   "cell_type": "code",
   "execution_count": 32,
   "metadata": {},
   "outputs": [
    {
     "data": {
      "text/plain": [
       "notRepairedDamage\n",
       "no     0.878834\n",
       "yes    0.121166\n",
       "Name: proportion, dtype: float64"
      ]
     },
     "execution_count": 32,
     "metadata": {},
     "output_type": "execute_result"
    }
   ],
   "source": [
    "df['notRepairedDamage'].value_counts(normalize=True)"
   ]
  },
  {
   "cell_type": "markdown",
   "metadata": {},
   "source": [
    "#### (vemos que tenemos predominancia por parte de 'no' con un casi 88%)"
   ]
  },
  {
   "cell_type": "markdown",
   "metadata": {},
   "source": [
    "### Vemos ```fuelType```"
   ]
  },
  {
   "cell_type": "code",
   "execution_count": 33,
   "metadata": {},
   "outputs": [
    {
     "data": {
      "text/plain": [
       "fuelType\n",
       "petrol     0.662020\n",
       "diesel     0.318642\n",
       "lpg        0.015905\n",
       "cng        0.001689\n",
       "hybrid     0.000822\n",
       "other      0.000615\n",
       "electro    0.000308\n",
       "Name: proportion, dtype: float64"
      ]
     },
     "execution_count": 33,
     "metadata": {},
     "output_type": "execute_result"
    }
   ],
   "source": [
    "df['fuelType'].value_counts(normalize=True)"
   ]
  },
  {
   "cell_type": "markdown",
   "metadata": {},
   "source": [
    "#### (vemos predominancia por parte de petrol con un 66%)"
   ]
  },
  {
   "cell_type": "markdown",
   "metadata": {},
   "source": [
    "<hr>\n",
    "\n",
    "## Rellenamos los nulos para las varibales categoricas"
   ]
  },
  {
   "cell_type": "code",
   "execution_count": 34,
   "metadata": {},
   "outputs": [
    {
     "data": {
      "text/plain": [
       "vehicleType          36.003865\n",
       "notRepairedDamage    19.395786\n",
       "powerCV              13.886586\n",
       "fuelType              8.986230\n",
       "model                 5.513507\n",
       "gearbox               5.439487\n",
       "dtype: float64"
      ]
     },
     "execution_count": 34,
     "metadata": {},
     "output_type": "execute_result"
    }
   ],
   "source": [
    "sup_nul.porcentaje_nulos(df)"
   ]
  },
  {
   "cell_type": "markdown",
   "metadata": {},
   "source": [
    "#### Comenzamos por ```VehicleType```"
   ]
  },
  {
   "cell_type": "code",
   "execution_count": 35,
   "metadata": {},
   "outputs": [
    {
     "data": {
      "text/plain": [
       "array([nan, 'coupe', 'suv', 'small car', 'convertible', 'bus', 'combi',\n",
       "       'other'], dtype=object)"
      ]
     },
     "execution_count": 35,
     "metadata": {},
     "output_type": "execute_result"
    }
   ],
   "source": [
    "df['vehicleType'].unique()"
   ]
  },
  {
   "cell_type": "code",
   "execution_count": 36,
   "metadata": {},
   "outputs": [],
   "source": [
    "df['vehicleType'] = df['vehicleType'].fillna('unknown')"
   ]
  },
  {
   "cell_type": "markdown",
   "metadata": {},
   "source": [
    "### Ahora ```notRepairedDamage```\n",
    "\n",
    "### En un principio rellené los datos con diferentes pesos para mantener la distribución de los datos ya que el valor 'no' predominaba con un 88%, pero de momento lo voy a rellenar como unknown y después lo trataré en el encoding.\n",
    "\n",
    "#### (Con las demás haré lo mismo)"
   ]
  },
  {
   "cell_type": "code",
   "execution_count": 37,
   "metadata": {},
   "outputs": [],
   "source": [
    "df['notRepairedDamage'] = df['notRepairedDamage'].fillna('unknown')"
   ]
  },
  {
   "cell_type": "markdown",
   "metadata": {},
   "source": [
    "### Ahora ```fuelType```"
   ]
  },
  {
   "cell_type": "code",
   "execution_count": 38,
   "metadata": {},
   "outputs": [],
   "source": [
    "df['fuelType'] = df['fuelType'].fillna('unknown')"
   ]
  },
  {
   "cell_type": "markdown",
   "metadata": {},
   "source": [
    "### Ahora ```model```"
   ]
  },
  {
   "cell_type": "code",
   "execution_count": 39,
   "metadata": {},
   "outputs": [],
   "source": [
    "df['model'] = df['model'].fillna('unknown')"
   ]
  },
  {
   "cell_type": "markdown",
   "metadata": {},
   "source": [
    "### Ahora ```gearbox```"
   ]
  },
  {
   "cell_type": "code",
   "execution_count": 40,
   "metadata": {},
   "outputs": [],
   "source": [
    "df['gearbox'] = df['gearbox'].fillna('unknown')"
   ]
  },
  {
   "cell_type": "markdown",
   "metadata": {},
   "source": [
    "## Vemos los nulos que nos quedan en nuestro DataFrame"
   ]
  },
  {
   "cell_type": "code",
   "execution_count": 41,
   "metadata": {},
   "outputs": [
    {
     "data": {
      "text/plain": [
       "powerCV    13.886586\n",
       "dtype: float64"
      ]
     },
     "execution_count": 41,
     "metadata": {},
     "output_type": "execute_result"
    }
   ],
   "source": [
    "sup_nul.porcentaje_nulos(df)"
   ]
  },
  {
   "cell_type": "markdown",
   "metadata": {},
   "source": [
    "<hr>\n",
    "\n",
    "## Guardamos los datos tratados hasta el momento"
   ]
  },
  {
   "cell_type": "code",
   "execution_count": 42,
   "metadata": {},
   "outputs": [],
   "source": [
    "df.to_csv('../datos/tratados/autorenew_after_eda.csv')"
   ]
  },
  {
   "cell_type": "markdown",
   "metadata": {},
   "source": [
    "<hr>\n",
    "\n",
    "<h2 style='color: #4682B4; font-weight: bold'>En el notebook 'laboratorio-modulo7-leccion02-feature-scaling' procedemos a la imputación de los nulos mediante los métodos 'Iterative' y 'KNN' para las variables numericas y 'a mano' para las categoricas.</h2>"
   ]
  }
 ],
 "metadata": {
  "kernelspec": {
   "display_name": "proyecto4",
   "language": "python",
   "name": "python3"
  },
  "language_info": {
   "codemirror_mode": {
    "name": "ipython",
    "version": 3
   },
   "file_extension": ".py",
   "mimetype": "text/x-python",
   "name": "python",
   "nbconvert_exporter": "python",
   "pygments_lexer": "ipython3",
   "version": "3.12.4"
  }
 },
 "nbformat": 4,
 "nbformat_minor": 2
}
